{
 "cells": [
  {
   "cell_type": "markdown",
   "id": "76afe6ca-f425-4401-b757-fabadf58db0b",
   "metadata": {},
   "source": [
    "Parcours à réaliser : 4-4-2-2-4"
   ]
  },
  {
   "cell_type": "code",
   "execution_count": 97,
   "id": "773ca703-8442-4da3-b03c-7198e41d3877",
   "metadata": {},
   "outputs": [
    {
     "ename": "AttributeError",
     "evalue": "module 'pandas' has no attribute 'dtype'",
     "output_type": "error",
     "traceback": [
      "\u001b[1;31m---------------------------------------------------------------------------\u001b[0m",
      "\u001b[1;31mAttributeError\u001b[0m                            Traceback (most recent call last)",
      "Cell \u001b[1;32mIn[97], line 12\u001b[0m\n\u001b[0;32m     10\u001b[0m             ret \u001b[38;5;241m=\u001b[39m file\u001b[38;5;241m.\u001b[39mread()\n\u001b[0;32m     11\u001b[0m             \u001b[38;5;28;01mreturn\u001b[39;00m ret\n\u001b[1;32m---> 12\u001b[0m pd\u001b[38;5;241m.\u001b[39mdtype(ouvrir_fichier(\u001b[38;5;124m\"\u001b[39m\u001b[38;5;124mmedocs_mouvements.zip\u001b[39m\u001b[38;5;124m\"\u001b[39m,\u001b[38;5;124m\"\u001b[39m\u001b[38;5;124mmvtpdt.csv\u001b[39m\u001b[38;5;124m\"\u001b[39m)[:\u001b[38;5;241m1000\u001b[39m])\n",
      "\u001b[1;31mAttributeError\u001b[0m: module 'pandas' has no attribute 'dtype'"
     ]
    }
   ],
   "source": [
    "import pandas as pd\n",
    "import os\n",
    "import zipfile\n",
    "def ouvrir_fichier(nzip,nfile):\n",
    "    loc=os.getcwd()\n",
    "    zip=os.path.join(loc,nzip)\n",
    "    fich=os.path.join(zip,nfile)\n",
    "    with zipfile.ZipFile(zip) as myzip:\n",
    "        with myzip.open(nfile) as file:\n",
    "            ret = file.read()\n",
    "            return ret\n",
    "ouvrir_fichier(\"medocs_mouvements.zip\",\"mvtpdt.csv\")[:1000]"
   ]
  },
  {
   "cell_type": "code",
   "execution_count": 136,
   "id": "e979e956-a5d3-409b-80d9-3914edc64379",
   "metadata": {},
   "outputs": [
    {
     "name": "stderr",
     "output_type": "stream",
     "text": [
      "IOPub data rate exceeded.\n",
      "The Jupyter server will temporarily stop sending output\n",
      "to the client in order to avoid crashing it.\n",
      "To change this limit, set the config variable\n",
      "`--ServerApp.iopub_data_rate_limit`.\n",
      "\n",
      "Current values:\n",
      "ServerApp.iopub_data_rate_limit=1000000.0 (bytes/sec)\n",
      "ServerApp.rate_limit_window=3.0 (secs)\n",
      "\n"
     ]
    },
    {
     "ename": "AttributeError",
     "evalue": "'TextFileReader' object has no attribute 'head'",
     "output_type": "error",
     "traceback": [
      "\u001b[1;31m---------------------------------------------------------------------------\u001b[0m",
      "\u001b[1;31mAttributeError\u001b[0m                            Traceback (most recent call last)",
      "Cell \u001b[1;32mIn[136], line 20\u001b[0m\n\u001b[0;32m     18\u001b[0m         df \u001b[38;5;241m=\u001b[39m pd\u001b[38;5;241m.\u001b[39mread_csv(fich,sep\u001b[38;5;241m=\u001b[39m\u001b[38;5;124m'\u001b[39m\u001b[38;5;124m;\u001b[39m\u001b[38;5;124m'\u001b[39m,header\u001b[38;5;241m=\u001b[39m\u001b[38;5;241m0\u001b[39m,index_col\u001b[38;5;241m=\u001b[39m\u001b[38;5;241m0\u001b[39m,encoding\u001b[38;5;241m=\u001b[39m\u001b[38;5;124m'\u001b[39m\u001b[38;5;124mlatin1\u001b[39m\u001b[38;5;124m'\u001b[39m,nrows\u001b[38;5;241m=\u001b[39m\u001b[38;5;241m1\u001b[39m,chunksize\u001b[38;5;241m=\u001b[39m\u001b[38;5;241m10\u001b[39m)\n\u001b[0;32m     19\u001b[0m         \u001b[38;5;28;01mreturn\u001b[39;00m df\u001b[38;5;241m.\u001b[39mhead(\u001b[38;5;241m5\u001b[39m)\n\u001b[1;32m---> 20\u001b[0m \u001b[38;5;28mprint\u001b[39m(ouvrir_fichierv2(nzip\u001b[38;5;241m=\u001b[39m\u001b[38;5;28;01mNone\u001b[39;00m,nfile\u001b[38;5;241m=\u001b[39m\u001b[38;5;124m\"\u001b[39m\u001b[38;5;124mmedocs_produits.csv\u001b[39m\u001b[38;5;124m\"\u001b[39m))\n",
      "Cell \u001b[1;32mIn[136], line 19\u001b[0m, in \u001b[0;36mouvrir_fichierv2\u001b[1;34m(nzip, nfile)\u001b[0m\n\u001b[0;32m     17\u001b[0m fich\u001b[38;5;241m=\u001b[39mos\u001b[38;5;241m.\u001b[39mpath\u001b[38;5;241m.\u001b[39mjoin(loc,nfile)\n\u001b[0;32m     18\u001b[0m df \u001b[38;5;241m=\u001b[39m pd\u001b[38;5;241m.\u001b[39mread_csv(fich,sep\u001b[38;5;241m=\u001b[39m\u001b[38;5;124m'\u001b[39m\u001b[38;5;124m;\u001b[39m\u001b[38;5;124m'\u001b[39m,header\u001b[38;5;241m=\u001b[39m\u001b[38;5;241m0\u001b[39m,index_col\u001b[38;5;241m=\u001b[39m\u001b[38;5;241m0\u001b[39m,encoding\u001b[38;5;241m=\u001b[39m\u001b[38;5;124m'\u001b[39m\u001b[38;5;124mlatin1\u001b[39m\u001b[38;5;124m'\u001b[39m,nrows\u001b[38;5;241m=\u001b[39m\u001b[38;5;241m1\u001b[39m,chunksize\u001b[38;5;241m=\u001b[39m\u001b[38;5;241m10\u001b[39m)\n\u001b[1;32m---> 19\u001b[0m \u001b[38;5;28;01mreturn\u001b[39;00m df\u001b[38;5;241m.\u001b[39mhead(\u001b[38;5;241m5\u001b[39m)\n",
      "\u001b[1;31mAttributeError\u001b[0m: 'TextFileReader' object has no attribute 'head'"
     ]
    }
   ],
   "source": [
    "y=x.split(\"\\n\")\n",
    "print(y)\n",
    "df=[z.split(\";\") for z in y]\n",
    "print(df)\n",
    "def ouvrir_fichierv2(nzip,nfile):\n",
    "    loc=os.getcwd()\n",
    "    if nzip != None :\n",
    "        print(\"io\")\n",
    "        zip=os.path.join(loc,nzip)\n",
    "        fich=os.path.join(zip,nfile)    \n",
    "        with zipfile.ZipFile(zip) as myzip:\n",
    "            with myzip.open(nfile) as file:\n",
    "                df = pd.read_csv(file,sep=';',header=0,index_col=0,encoding='utf-8',nrows=10)\n",
    "                return df.head(5)\n",
    "    else:\n",
    "        print(\"oi\")\n",
    "        fich=os.path.join(loc,nfile)\n",
    "        df = pd.read_csv(fich,sep=';',header=0,index_col=0,encoding='latin1',nrows=1,chunksize=10)\n",
    "        return df.head(5)\n",
    "print(ouvrir_fichierv2(nzip=None,nfile=\"medocs_produits.csv\"))"
   ]
  },
  {
   "cell_type": "code",
   "execution_count": null,
   "id": "75e22d54-949e-48d6-905d-da1b110a6c7a",
   "metadata": {},
   "outputs": [],
   "source": []
  }
 ],
 "metadata": {
  "kernelspec": {
   "display_name": "Python 3 (ipykernel)",
   "language": "python",
   "name": "python3"
  },
  "language_info": {
   "codemirror_mode": {
    "name": "ipython",
    "version": 3
   },
   "file_extension": ".py",
   "mimetype": "text/x-python",
   "name": "python",
   "nbconvert_exporter": "python",
   "pygments_lexer": "ipython3",
   "version": "3.12.4"
  }
 },
 "nbformat": 4,
 "nbformat_minor": 5
}
