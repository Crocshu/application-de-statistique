{
 "cells": [
  {
   "cell_type": "markdown",
   "id": "76afe6ca-f425-4401-b757-fabadf58db0b",
   "metadata": {},
   "source": [
    "Parcours à réaliser : 4-4-2-2-4"
   ]
  },
  {
   "cell_type": "code",
   "execution_count": 1,
   "id": "773ca703-8442-4da3-b03c-7198e41d3877",
   "metadata": {},
   "outputs": [
    {
     "data": {
      "text/plain": [
       "b'\"PRCLEUNIK\";\"DATEMVT\";\"HEUREMVT\";\"SENSMVT\";\"TYPEMVT\";\"SERVICE\";\"MAGASIN\";\"QUANTITE\";\"VALHT\";\"B_URGENT\"\\r\\n5926;03/06/2020;\"0823\";2;7;\"1602\";\"0433\";20;0,7;1\\r\\n3716;03/06/2020;\"0823\";2;7;\"1602\";\"0433\";10;5,197;1\\r\\n29207;03/06/2020;\"0833\";2;7;\"1901\";\"0433\";12;10,7988;1\\r\\n2034;03/06/2020;\"0833\";2;7;\"1901\";\"0433\";20;43,002;1\\r\\n11675;06/03/2020;\"1224\";2;7;\"5121\";\"0433\";56;1,0024;0\\r\\n2386;06/03/2020;\"1224\";2;7;\"5121\";\"0433\";24;0,288;0\\r\\n1855;06/03/2020;\"1224\";2;7;\"5121\";\"0433\";10;0,37;0\\r\\n1856;06/03/2020;\"1224\";2;7;\"5121\";\"0433\";20;0,598;0\\r\\n14522;06/03/2020;\"1224\";2;7;\"5121\";\"0433\";20;0,4;0\\r\\n3460;06/03/2020;\"1224\";2;7;\"5121\";\"0433\";40;1,4;0\\r\\n13473;06/03/2020;\"1224\";2;7;\"5121\";\"0433\";10;3,599;0\\r\\n8749;06/03/2020;\"1224\";2;7;\"5121\";\"0433\";10;1,188;0\\r\\n5557;06/03/2020;\"1224\";2;7;\"5121\";\"0433\";10;0,898;0\\r\\n27304;06/03/2020;\"1224\";2;7;\"5121\";\"0433\";4;6,24;0\\r\\n2104;06/03/2020;\"1224\";2;7;\"5121\";\"0433\";5;0,3695;0\\r\\n2924;06/03/2020;\"1224\";2;7;\"5121\";\"0433\";10;1,294;0\\r\\n8700;16/01/2020;\"0848\";1;1;\"-1\";\"0433\";20;1,63;0'"
      ]
     },
     "execution_count": 1,
     "metadata": {},
     "output_type": "execute_result"
    }
   ],
   "source": [
    "import pandas as pd\n",
    "import os\n",
    "import zipfile\n",
    "def ouvrir_fichier(nzip,nfile):\n",
    "    loc=os.getcwd()\n",
    "    zip=os.path.join(loc,nzip)\n",
    "    fich=os.path.join(zip,nfile)\n",
    "    with zipfile.ZipFile(zip) as myzip:\n",
    "        with myzip.open(nfile) as file:\n",
    "            ret = file.read()\n",
    "            return ret\n",
    "ouvrir_fichier(\"medocs_mouvements.zip\",\"mvtpdt.csv\")[:1000]"
   ]
  },
  {
   "cell_type": "code",
   "execution_count": 2,
   "id": "e979e956-a5d3-409b-80d9-3914edc64379",
   "metadata": {},
   "outputs": [
    {
     "ename": "NameError",
     "evalue": "name 'x' is not defined",
     "output_type": "error",
     "traceback": [
      "\u001b[1;31m---------------------------------------------------------------------------\u001b[0m",
      "\u001b[1;31mNameError\u001b[0m                                 Traceback (most recent call last)",
      "Cell \u001b[1;32mIn[2], line 1\u001b[0m\n\u001b[1;32m----> 1\u001b[0m y\u001b[38;5;241m=\u001b[39mx\u001b[38;5;241m.\u001b[39msplit(\u001b[38;5;124m\"\u001b[39m\u001b[38;5;130;01m\\n\u001b[39;00m\u001b[38;5;124m\"\u001b[39m)\n\u001b[0;32m      2\u001b[0m \u001b[38;5;28mprint\u001b[39m(y)\n\u001b[0;32m      3\u001b[0m df\u001b[38;5;241m=\u001b[39m[z\u001b[38;5;241m.\u001b[39msplit(\u001b[38;5;124m\"\u001b[39m\u001b[38;5;124m;\u001b[39m\u001b[38;5;124m\"\u001b[39m) \u001b[38;5;28;01mfor\u001b[39;00m z \u001b[38;5;129;01min\u001b[39;00m y]\n",
      "\u001b[1;31mNameError\u001b[0m: name 'x' is not defined"
     ]
    }
   ],
   "source": [
    "y=x.split(\"\\n\")\n",
    "print(y)\n",
    "df=[z.split(\";\") for z in y]\n",
    "print(df)\n",
    "def ouvrir_fichierv2(nzip,nfile):\n",
    "    loc=os.getcwd()\n",
    "    if nzip != None :\n",
    "        print(\"io\")\n",
    "        zip=os.path.join(loc,nzip)\n",
    "        fich=os.path.join(zip,nfile)    \n",
    "        with zipfile.ZipFile(zip) as myzip:\n",
    "            with myzip.open(nfile) as file:\n",
    "                df = pd.read_csv(file,sep=';',header=0,index_col=0,encoding='utf-8',nrows=10)\n",
    "                return df.head(5)\n",
    "    else:\n",
    "        print(\"oi\")\n",
    "        fich=os.path.join(loc,nfile)\n",
    "        df = pd.read_csv(fich,sep=';',header=0,index_col=0,encoding='latin1',nrows=1,chunksize=10)\n",
    "        return df.head(5)\n",
    "print(ouvrir_fichierv2(nzip=None,nfile=\"medocs_produits.csv\"))"
   ]
  },
  {
   "cell_type": "code",
   "execution_count": 11,
   "id": "75e22d54-949e-48d6-905d-da1b110a6c7a",
   "metadata": {},
   "outputs": [
    {
     "name": "stdout",
     "output_type": "stream",
     "text": [
      "['3716', '03/06/2020', \"'0823'\", '2', '7', \"'1602'\", \"'0433'\", '10', '5,197', '1', \"' '\"]\n",
      "z : 3716\n",
      "z : 03/06/2020\n",
      "z : '0823'\n",
      "z : 2\n",
      "z : 7\n",
      "z : '1602'\n",
      "z : '0433'\n",
      "z : 10\n",
      "z : 5,197\n",
      "z : 1\n",
      "z : ' '\n",
      "[] 0\n"
     ]
    }
   ],
   "source": [
    "x=\"3716;03/06/2020;'0823';2;7;'1602';'0433';10;5,197;1\"\n",
    "y=x.split(\";\")\n",
    "print(y)\n",
    "for z in y:\n",
    "    print(\"z : \" + z)\n",
    "k=[1 for z in y if z=='2']\n",
    "print(k,sum(k))"
   ]
  },
  {
   "cell_type": "code",
   "execution_count": null,
   "id": "bfa67b5f",
   "metadata": {},
   "outputs": [],
   "source": []
  }
 ],
 "metadata": {
  "kernelspec": {
   "display_name": "base",
   "language": "python",
   "name": "python3"
  },
  "language_info": {
   "codemirror_mode": {
    "name": "ipython",
    "version": 3
   },
   "file_extension": ".py",
   "mimetype": "text/x-python",
   "name": "python",
   "nbconvert_exporter": "python",
   "pygments_lexer": "ipython3",
   "version": "3.12.4"
  }
 },
 "nbformat": 4,
 "nbformat_minor": 5
}
